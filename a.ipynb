{
 "cells": [
  {
   "cell_type": "code",
   "execution_count": null,
   "metadata": {},
   "outputs": [],
   "source": [
    "from PySources.TKCT_new import filter\n",
    "from PySources.base import BASE\n",
    "import pandas as pd\n",
    "\n",
    "NAM_ID = 1\n",
    "\n",
    "df_origin = pd.read_excel(\"HOSE_Field_2025_simulate_20250401.xlsx\")\n",
    "df = df_origin[df_origin[\"TIME\"] <= 2015+NAM_ID]\n",
    "\n",
    "vis = BASE(df, 1.06, 5e8)\n",
    "print(vis.data.shape)\n",
    "\n",
    "filter(\n",
    "    vis,\n",
    "    \"CT_Ngn1_1525_NEW/f_15_25_Ngn1_temp.db\",\n",
    "    NAM_ID,\n",
    "    10000,\n",
    "    0.21,\n",
    "    \"CT_Ngn1_1525_NEW\",\n",
    "    \"HarNgn1\",\n",
    "    \"\"\n",
    ")"
   ]
  }
 ],
 "metadata": {
  "kernelspec": {
   "display_name": "Python 3",
   "language": "python",
   "name": "python3"
  },
  "language_info": {
   "codemirror_mode": {
    "name": "ipython",
    "version": 3
   },
   "file_extension": ".py",
   "mimetype": "text/x-python",
   "name": "python",
   "nbconvert_exporter": "python",
   "pygments_lexer": "ipython3",
   "version": "3.10.10"
  }
 },
 "nbformat": 4,
 "nbformat_minor": 2
}
