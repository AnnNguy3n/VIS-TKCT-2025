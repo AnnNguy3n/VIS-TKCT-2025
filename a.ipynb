{
 "cells": [
  {
   "cell_type": "code",
   "execution_count": null,
   "metadata": {},
   "outputs": [],
   "source": [
    "from PySources.filterUnique import filter_unique_formula_value\n",
    "\n",
    "filter_unique_formula_value(\"/Users/huuannguyen/Desktop/VIS-TKCT-2025/CT_Ngn1/f_15_25_Ngn1.db\",\n",
    "                            \"HarNgn1\")"
   ]
  }
 ],
 "metadata": {
  "kernelspec": {
   "display_name": "Python 3",
   "language": "python",
   "name": "python3"
  },
  "language_info": {
   "codemirror_mode": {
    "name": "ipython",
    "version": 3
   },
   "file_extension": ".py",
   "mimetype": "text/x-python",
   "name": "python",
   "nbconvert_exporter": "python",
   "pygments_lexer": "ipython3",
   "version": "3.10.10"
  }
 },
 "nbformat": 4,
 "nbformat_minor": 2
}
