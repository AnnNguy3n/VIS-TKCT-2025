{
 "cells": [
  {
   "cell_type": "code",
   "execution_count": null,
   "metadata": {},
   "outputs": [],
   "source": [
    "import pandas as pd\n",
    "from PySources.detail import get_dfs, BASE\n",
    "import gc\n",
    "\n",
    "df_origin = pd.read_excel(\"HOSE_Field_2025_Audited.xlsx\")\n",
    "NAM_ID = 10\n",
    "\n",
    "# Danh sách các cặp (FOLDER, Val) để lặp qua\n",
    "folders_and_vals = [\n",
    "    (\"CT_Ngn1\", \"Val1\"),\n",
    "    (\"CT_Ngn1_NEW\", \"Val1\"),\n",
    "    (\"CT_Ngn2\", \"Val2\"),\n",
    "    (\"CT_Ngn2_NEW\", \"Val2\"),\n",
    "    (\"CT_Ngn3\", \"Val3\"),\n",
    "    (\"CT_Ngn3_NEW\", \"Val3\"),\n",
    "    (\"CT_Ngn1_1525\", \"Val1\"),\n",
    "    (\"CT_Ngn1_1525_NEW\", \"Val1\"),\n",
    "    (\"CT_Ngn2_1525\", \"Val2\"),\n",
    "    (\"CT_Ngn2_1525_NEW\", \"Val2\"),\n",
    "    (\"CT_Ngn3_1525\", \"Val3\"),\n",
    "    (\"CT_Ngn3_1525_NEW\", \"Val3\"),\n",
    "]\n",
    "\n",
    "for FOLDER, Val in folders_and_vals:\n",
    "    NAM_ID = 10 - NAM_ID\n",
    "    if \"1525\" in FOLDER and NAM_ID == 0:\n",
    "        continue\n",
    "\n",
    "    with open(f\"{FOLDER}/{NAM_ID}.txt\", \"r\") as f:\n",
    "        list_ct = f.read().splitlines()\n",
    "\n",
    "    df = df_origin[df_origin[\"TIME\"] <= 2015 + NAM_ID]\n",
    "    df_info, df_sum_rank = get_dfs(BASE(df, 1.06, 5e8), list_ct, Val)\n",
    "    df_info.to_csv(f\"{FOLDER}/{2015 + NAM_ID}.csv\", index=False)\n",
    "    df_sum_rank.to_csv(f\"{FOLDER}/SUM_RANK_{2015 + NAM_ID}.csv\", index=False)\n",
    "    gc.collect()"
   ]
  }
 ],
 "metadata": {
  "kernelspec": {
   "display_name": "Python 3",
   "language": "python",
   "name": "python3"
  },
  "language_info": {
   "codemirror_mode": {
    "name": "ipython",
    "version": 3
   },
   "file_extension": ".py",
   "mimetype": "text/x-python",
   "name": "python",
   "nbconvert_exporter": "python",
   "pygments_lexer": "ipython3",
   "version": "3.10.10"
  }
 },
 "nbformat": 4,
 "nbformat_minor": 2
}
