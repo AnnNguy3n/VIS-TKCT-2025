{
 "cells": [
  {
   "cell_type": "code",
   "execution_count": null,
   "metadata": {},
   "outputs": [],
   "source": [
    "from PySources.filterUnique import filter_unique_formula_value\n",
    "\n",
    "filter_unique_formula_value(\"/Users/huuannguyen/Desktop/VIS-TKCT-2025/CT_Ngn3/f_15_25_Ngn3.db\",\n",
    "                            \"HarNgn3\")"
   ]
  }
 ],
 "metadata": {
  "kernelspec": {
   "display_name": "Python 3",
   "language": "python",
   "name": "python3"
  },
  "language_info": {
   "name": "python",
   "version": "3.10.10"
  }
 },
 "nbformat": 4,
 "nbformat_minor": 2
}
